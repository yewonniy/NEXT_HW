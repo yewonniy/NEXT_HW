{
  "nbformat": 4,
  "nbformat_minor": 0,
  "metadata": {
    "colab": {
      "provenance": [],
      "authorship_tag": "ABX9TyNG+HpNbYz9yYMIgQpTSJSL",
      "include_colab_link": true
    },
    "kernelspec": {
      "name": "python3",
      "display_name": "Python 3"
    },
    "language_info": {
      "name": "python"
    }
  },
  "cells": [
    {
      "cell_type": "markdown",
      "metadata": {
        "id": "view-in-github",
        "colab_type": "text"
      },
      "source": [
        "<a href=\"https://colab.research.google.com/github/yewonniy/NEXT_HW/blob/main/0313python_practice.ipynb\" target=\"_parent\"><img src=\"https://colab.research.google.com/assets/colab-badge.svg\" alt=\"Open In Colab\"/></a>"
      ]
    },
    {
      "cell_type": "markdown",
      "source": [],
      "metadata": {
        "id": "OU_2jtsOHvVQ"
      }
    },
    {
      "cell_type": "code",
      "execution_count": null,
      "metadata": {
        "colab": {
          "base_uri": "https://localhost:8080/"
        },
        "id": "qpX6v-xuCR74",
        "outputId": "11a217dd-79b6-46aa-9099-dd9e0c04b775"
      },
      "outputs": [
        {
          "output_type": "stream",
          "name": "stdout",
          "text": [
            "300\n",
            "Wait Do you want loan?\n",
            "This is your money-100\n",
            "This is your money-100\n",
            "This is your money-50\n"
          ]
        }
      ],
      "source": [
        "class Bank:\n",
        "    account = 1000\n",
        "    limit_for_loan = 500\n",
        "    limit_for_withdrawal = 100\n",
        "    total_amount = int(input())\n",
        "\n",
        "    def _init_(self, total_amount, limit_for_loan, limit_for_withdrawal):\n",
        "        self.total_amount = total_amount\n",
        "        self.limit_for_loan = limit_for_loan\n",
        "        self.limit_for_withdrawal = limit_for_withdrawal\n",
        "\n",
        "    def repeat_withdrawing_money(self, amount, limit_for_withdrawal):\n",
        "        count = amount // limit_for_withdrawal\n",
        "        rest = amount % limit_for_withdrawal\n",
        "        for i in range(count):\n",
        "            print(f'This is your money-{limit_for_withdrawal}')\n",
        "            if i == (count-1):\n",
        "                print(f'This is your money-{rest}')\n",
        "\n",
        "    def show_me_the_money(self, amount):\n",
        "        if amount <= self.total_amount:\n",
        "            self.repeat_withdrawing_money(amount, self.limit_for_withdrawal)\n",
        "        elif amount<= (self.total_amount + self.limit_for_loan):\n",
        "            print('Wait Do you want loan?')\n",
        "        else: \n",
        "            print('Your money is not enough')\n",
        "\n",
        "hana_bank = Bank()\n",
        "hana_bank.show_me_the_money(450)\n",
        "\n",
        "shinhan_bank = Bank()\n",
        "shinhan_bank.show_me_the_money(250)"
      ]
    }
  ]
}